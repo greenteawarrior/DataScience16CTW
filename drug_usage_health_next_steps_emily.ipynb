{
 "cells": [
  {
   "cell_type": "markdown",
   "metadata": {},
   "source": [
    "#### Brenna Manning and Emily Wang | Change the World : Drug Abuse and Health | Data Science 2016\n",
    "\n",
    "March 8, 2016\n",
    "\n",
    "## Next Steps of Our Project\n",
    "\n",
    "Goals of this notebook:\n",
    "* Explore more aspects of our data\n",
    "* Create clearer visualizations\n",
    "    * (Following up on Paul's suggestion) Plotting the frequencies of emotional levels relative to drug-free respondents"
   ]
  },
  {
   "cell_type": "code",
   "execution_count": 14,
   "metadata": {
    "collapsed": false
   },
   "outputs": [],
   "source": [
    "%matplotlib inline\n",
    "\n",
    "import pandas as pd\n",
    "import matplotlib.pyplot as plt\n",
    "from matplotlib.ticker import ScalarFormatter, FormatStrFormatter\n",
    "import seaborn as sns\n",
    "import numpy as np\n",
    "import pprint as pp\n",
    "from IPython.display import display"
   ]
  },
  {
   "cell_type": "markdown",
   "metadata": {},
   "source": [
    "We want to explore more features of our data to learn more about the axes of diversity we were initially interested in.  \n",
    "\n",
    "We also want to modify the presentation of our visualizations from the previous notebook to make them clearer and more impactful."
   ]
  },
  {
   "cell_type": "markdown",
   "metadata": {},
   "source": [
    "#### Load data\n",
    "\n",
    "[Here's the link to the dataset webpage.](http://www.icpsr.umich.edu/icpsrweb/ICPSR/studies/34933)"
   ]
  },
  {
   "cell_type": "code",
   "execution_count": 15,
   "metadata": {
    "collapsed": false
   },
   "outputs": [],
   "source": [
    "df = pd.read_table('data/ICPSR_34933/DS0001/34933-0001-Data.tsv')"
   ]
  },
  {
   "cell_type": "code",
   "execution_count": 16,
   "metadata": {
    "collapsed": false
   },
   "outputs": [
    {
     "data": {
      "text/html": [
       "<div>\n",
       "<table border=\"1\" class=\"dataframe\">\n",
       "  <thead>\n",
       "    <tr style=\"text-align: right;\">\n",
       "      <th></th>\n",
       "      <th>CASEID</th>\n",
       "      <th>QUESTID2</th>\n",
       "      <th>CIGEVER</th>\n",
       "      <th>CIGOFRSM</th>\n",
       "      <th>CIGWILYR</th>\n",
       "      <th>CIGTRY</th>\n",
       "      <th>CIGYFU</th>\n",
       "      <th>CIGMFU</th>\n",
       "      <th>CIGREC</th>\n",
       "      <th>CIG30USE</th>\n",
       "      <th>...</th>\n",
       "      <th>IIEMPSTY</th>\n",
       "      <th>II2EMSTY</th>\n",
       "      <th>EMPSTAT4</th>\n",
       "      <th>IIEMPST4</th>\n",
       "      <th>II2EMST4</th>\n",
       "      <th>PDEN00</th>\n",
       "      <th>COUTYP2</th>\n",
       "      <th>ANALWT_C</th>\n",
       "      <th>VESTR</th>\n",
       "      <th>VEREP</th>\n",
       "    </tr>\n",
       "  </thead>\n",
       "  <tbody>\n",
       "    <tr>\n",
       "      <th>0</th>\n",
       "      <td>1</td>\n",
       "      <td>50886467</td>\n",
       "      <td>2</td>\n",
       "      <td>4</td>\n",
       "      <td>4</td>\n",
       "      <td>991</td>\n",
       "      <td>9991</td>\n",
       "      <td>91</td>\n",
       "      <td>91</td>\n",
       "      <td>91</td>\n",
       "      <td>...</td>\n",
       "      <td>1</td>\n",
       "      <td>1</td>\n",
       "      <td>99</td>\n",
       "      <td>9</td>\n",
       "      <td>9</td>\n",
       "      <td>2</td>\n",
       "      <td>2</td>\n",
       "      <td>1275.597449</td>\n",
       "      <td>30054</td>\n",
       "      <td>2</td>\n",
       "    </tr>\n",
       "    <tr>\n",
       "      <th>1</th>\n",
       "      <td>2</td>\n",
       "      <td>13766883</td>\n",
       "      <td>2</td>\n",
       "      <td>99</td>\n",
       "      <td>99</td>\n",
       "      <td>991</td>\n",
       "      <td>9991</td>\n",
       "      <td>91</td>\n",
       "      <td>91</td>\n",
       "      <td>91</td>\n",
       "      <td>...</td>\n",
       "      <td>1</td>\n",
       "      <td>1</td>\n",
       "      <td>1</td>\n",
       "      <td>1</td>\n",
       "      <td>1</td>\n",
       "      <td>2</td>\n",
       "      <td>2</td>\n",
       "      <td>5191.071173</td>\n",
       "      <td>30031</td>\n",
       "      <td>1</td>\n",
       "    </tr>\n",
       "    <tr>\n",
       "      <th>2</th>\n",
       "      <td>3</td>\n",
       "      <td>17772877</td>\n",
       "      <td>2</td>\n",
       "      <td>99</td>\n",
       "      <td>99</td>\n",
       "      <td>991</td>\n",
       "      <td>9991</td>\n",
       "      <td>91</td>\n",
       "      <td>91</td>\n",
       "      <td>91</td>\n",
       "      <td>...</td>\n",
       "      <td>1</td>\n",
       "      <td>1</td>\n",
       "      <td>1</td>\n",
       "      <td>1</td>\n",
       "      <td>1</td>\n",
       "      <td>3</td>\n",
       "      <td>3</td>\n",
       "      <td>419.742011</td>\n",
       "      <td>30056</td>\n",
       "      <td>2</td>\n",
       "    </tr>\n",
       "    <tr>\n",
       "      <th>3</th>\n",
       "      <td>4</td>\n",
       "      <td>45622817</td>\n",
       "      <td>1</td>\n",
       "      <td>99</td>\n",
       "      <td>99</td>\n",
       "      <td>13</td>\n",
       "      <td>9999</td>\n",
       "      <td>99</td>\n",
       "      <td>2</td>\n",
       "      <td>93</td>\n",
       "      <td>...</td>\n",
       "      <td>1</td>\n",
       "      <td>1</td>\n",
       "      <td>2</td>\n",
       "      <td>1</td>\n",
       "      <td>1</td>\n",
       "      <td>2</td>\n",
       "      <td>2</td>\n",
       "      <td>1449.303889</td>\n",
       "      <td>30054</td>\n",
       "      <td>1</td>\n",
       "    </tr>\n",
       "    <tr>\n",
       "      <th>4</th>\n",
       "      <td>5</td>\n",
       "      <td>17239390</td>\n",
       "      <td>1</td>\n",
       "      <td>99</td>\n",
       "      <td>99</td>\n",
       "      <td>11</td>\n",
       "      <td>9999</td>\n",
       "      <td>99</td>\n",
       "      <td>4</td>\n",
       "      <td>93</td>\n",
       "      <td>...</td>\n",
       "      <td>1</td>\n",
       "      <td>1</td>\n",
       "      <td>1</td>\n",
       "      <td>1</td>\n",
       "      <td>1</td>\n",
       "      <td>1</td>\n",
       "      <td>1</td>\n",
       "      <td>15344.293577</td>\n",
       "      <td>30012</td>\n",
       "      <td>2</td>\n",
       "    </tr>\n",
       "  </tbody>\n",
       "</table>\n",
       "<p>5 rows × 3120 columns</p>\n",
       "</div>"
      ],
      "text/plain": [
       "   CASEID  QUESTID2  CIGEVER  CIGOFRSM  CIGWILYR  CIGTRY  CIGYFU  CIGMFU  \\\n",
       "0       1  50886467        2         4         4     991    9991      91   \n",
       "1       2  13766883        2        99        99     991    9991      91   \n",
       "2       3  17772877        2        99        99     991    9991      91   \n",
       "3       4  45622817        1        99        99      13    9999      99   \n",
       "4       5  17239390        1        99        99      11    9999      99   \n",
       "\n",
       "   CIGREC  CIG30USE  ...    IIEMPSTY  II2EMSTY  EMPSTAT4  IIEMPST4  II2EMST4  \\\n",
       "0      91        91  ...           1         1        99         9         9   \n",
       "1      91        91  ...           1         1         1         1         1   \n",
       "2      91        91  ...           1         1         1         1         1   \n",
       "3       2        93  ...           1         1         2         1         1   \n",
       "4       4        93  ...           1         1         1         1         1   \n",
       "\n",
       "   PDEN00  COUTYP2      ANALWT_C  VESTR  VEREP  \n",
       "0       2        2   1275.597449  30054      2  \n",
       "1       2        2   5191.071173  30031      1  \n",
       "2       3        3    419.742011  30056      2  \n",
       "3       2        2   1449.303889  30054      1  \n",
       "4       1        1  15344.293577  30012      2  \n",
       "\n",
       "[5 rows x 3120 columns]"
      ]
     },
     "execution_count": 16,
     "metadata": {},
     "output_type": "execute_result"
    }
   ],
   "source": [
    "df.head()"
   ]
  },
  {
   "cell_type": "code",
   "execution_count": null,
   "metadata": {
    "collapsed": false
   },
   "outputs": [],
   "source": [
    "def mh_compare(df, s30, emotion, substancestr, emotionstr, save=False):\n",
    "    \n",
    "    \"\"\"\n",
    "    df: dataframe of interest\n",
    "    s30: subtance of interest\n",
    "    emotion: mental health aspect of interest\n",
    "    \n",
    "    inputs for plotting purposes\n",
    "    substancestr: human readable string of the substance \n",
    "    emotionstr: human readable string of the emotion\n",
    "    \"\"\"\n",
    "        \n",
    "    # convert 91 and 93 to 0 days (easier to understand when looking at plot)\n",
    "    df.loc[df[s30] == 91, s30] = 0 # never had substance\n",
    "    df.loc[df[s30] == 93, s30] = 0 # haven't had substance in the past month\n",
    "    df_subset = df[df[s30] < 31]\n",
    "    df_subset= df_subset[df_subset[emotion] < 6]\n",
    "    \n",
    "    # BRACKET column\n",
    "    df_subset['BRACKET'] = df_subset[s30]\n",
    "    df_subset.loc[df_subset[s30] >= 27, 'BRACKET'] = 6 #  27-30 days of substance usage per month    \n",
    "    df_subset.loc[df_subset[s30] < 27, 'BRACKET'] = 5 #  20-27 days of substance usage per month\n",
    "    df_subset.loc[df_subset[s30] < 20, 'BRACKET'] = 4 #  13-19 days of substance usage per month\n",
    "    df_subset.loc[df_subset[s30] < 13, 'BRACKET'] = 3 #  7-12 days of substance usage per month\n",
    "    df_subset.loc[df_subset[s30] < 7, 'BRACKET'] = 2 #  3-6 days of substance usage per month\n",
    "    df_subset.loc[df_subset[s30] < 3, 'BRACKET'] = 1 # 1 or 2 days of substance usage per month\n",
    "    df_subset.loc[df_subset[s30] == 0, 'BRACKET'] = 0 # never had substance       \n",
    "    \n",
    "    # groupby operation --> plotting_df --> subgroups (each subgroup will be a line on the resulting plot)\n",
    "    grouped = df_subset.groupby('BRACKET')\n",
    "    bracket_counts = grouped[emotion].value_counts(normalize=True)        \n",
    "    bracket_data = [\n",
    "                    {'BRACKET': br, emotion: em, 'counts': c}\n",
    "                    for (br, em), c in dict(bracket_counts).items()\n",
    "                   ]\n",
    "    \n",
    "    plotting_df = pd.DataFrame(bracket_data)\n",
    "    plotting_df = plotting_df.sort_values([\"BRACKET\", emotion])\n",
    "    \n",
    "    subgroups = plotting_df.groupby(emotion)\n",
    "    \n",
    "    # Plotting!\n",
    "    fig = plt.figure(figsize=(10, 7))\n",
    "    current_palette = sns.color_palette()\n",
    "    \n",
    "    for i in range(1,6):\n",
    "        s = subgroups.get_group(i).head()\n",
    "        s[\"ratios\"] = s[\"counts\"] / float(s.iloc[0].counts)\n",
    "        sns.pointplot(s[\"BRACKET\"], s[\"ratios\"], color=current_palette[i])\n",
    "    \n",
    "    plt.xlabel(\"Substance Usage\", fontsize=14)\n",
    "    plt.ylabel(\"Frequency of Emotional Level Relative to Drug-Free Respondents\", fontsize=14)\n",
    "    \n",
    "    legend = plt.legend([\"All of the time\", \n",
    "                         \"Most of the time\", \n",
    "                         \"Sometimes\", \n",
    "                         \"A little of the time\", \n",
    "                         \"None of the time\"], \n",
    "                         bbox_to_anchor=(1.05, 1), \n",
    "                         loc=2, \n",
    "                         fontsize=14)\n",
    "    legend.legendHandles[0].set_color(current_palette[1])\n",
    "    legend.legendHandles[1].set_color(current_palette[2])\n",
    "    legend.legendHandles[2].set_color(current_palette[3])\n",
    "    legend.legendHandles[3].set_color(current_palette[4])\n",
    "    legend.legendHandles[4].set_color(current_palette[5])\n",
    "    \n",
    "    ax = plt.gca()\n",
    "    ax.set_xticklabels(['Never', 'Rarely', 'Weekly', 'Biweekly', 'Frequently', 'Heavily', 'Daily'], fontsize=14)\n",
    "    plt.tick_params(labelsize=14)\n",
    "    \n",
    "    plt.title(\"%s Usage and %s Trends\" % (substancestr, emotionstr), fontsize=16)\n",
    "    \n",
    "    if save:\n",
    "        plt.savefig(\"mh_compare_%s_%s.png\" % (substancestr, emotionstr), format=\"png\")\n",
    "    \n",
    "    return"
   ]
  },
  {
   "cell_type": "markdown",
   "metadata": {},
   "source": [
    "#### Substances to investigate\n",
    "* Cigarettes (CIG30USE)\n",
    "* Heroin (HER30USE)\n",
    "* Marajuana (MJDAY30A)\n",
    "* Alcohol (ALCDAYS)\n",
    "* Cocaine (COCUS30A)\n",
    "* Sedatives (SEDYRTOT) TOTAL # OF DAYS USED SEDATIVES PAST 12 MONTHS\n",
    "* Stimulants (STMYRTOT) TOTAL # DAYS USED STIMULANTS PAST 12 MONTHS"
   ]
  },
  {
   "cell_type": "markdown",
   "metadata": {},
   "source": [
    "### Notes\n",
    "\n",
    "* \"Peaks\" in the lines are worth asking \"Why?\" and investigating further\n",
    "* Stories to consider:\n",
    "    * People who consume the drug frequently embrace the substance use as a lifestyle\n",
    "    * People who only use the drug on the weekends\n",
    "    * People who use the drug as a coping mechanism\n",
    "* TODO: Annotate figures with text to call out the salient things; [matplotlib text intro](http://matplotlib.org/users/text_intro.html)\n",
    "* Do more comparisons between trends for different substances"
   ]
  },
  {
   "cell_type": "markdown",
   "metadata": {},
   "source": [
    "#### Cigarette Usage Trends"
   ]
  },
  {
   "cell_type": "code",
   "execution_count": null,
   "metadata": {
    "collapsed": false
   },
   "outputs": [],
   "source": [
    "mh_compare(df, \"CIG30USE\", \"DSTNRV30\", \"Cigarettes\", \"Nervousness\", save=True)\n",
    "mh_compare(df, \"CIG30USE\", \"DSTHOP30\", \"Cigarettes\", \"Hopelessness\", save=True)\n",
    "mh_compare(df, \"CIG30USE\", \"DSTRST30\", \"Cigarettes\", \"Restlessness\", save=True)\n",
    "mh_compare(df, \"CIG30USE\", \"DSTCHR30\", \"Cigarettes\", \"Depression\", save=True)"
   ]
  },
  {
   "cell_type": "markdown",
   "metadata": {},
   "source": [
    "#### Heroin Usage Trends"
   ]
  },
  {
   "cell_type": "code",
   "execution_count": null,
   "metadata": {
    "collapsed": false
   },
   "outputs": [],
   "source": [
    "mh_compare(df, \"HER30USE\", \"DSTNRV30\", \"Heroin\", \"Nervousness\", save=True)\n",
    "mh_compare(df, \"HER30USE\", \"DSTHOP30\", \"Heroin\", \"Hopelessness\", save=True)\n",
    "mh_compare(df, \"HER30USE\", \"DSTRST30\", \"Heroin\", \"Restlessness\", save=True)\n",
    "mh_compare(df, \"HER30USE\", \"DSTCHR30\", \"Heroin\", \"Depression\", save=True)"
   ]
  },
  {
   "cell_type": "markdown",
   "metadata": {},
   "source": [
    "#### Alcohol Usage Trends"
   ]
  },
  {
   "cell_type": "code",
   "execution_count": null,
   "metadata": {
    "collapsed": false
   },
   "outputs": [],
   "source": [
    "mh_compare(df, \"ALCDAYS\", \"DSTNRV30\", \"Alcohol\", \"Nervousness\", save=True)\n",
    "mh_compare(df, \"ALCDAYS\", \"DSTHOP30\", \"Alcohol\", \"Hopelessness\", save=True)\n",
    "mh_compare(df, \"ALCDAYS\", \"DSTRST30\", \"Alcohol\", \"Restlessness\", save=True)\n",
    "mh_compare(df, \"ALCDAYS\", \"DSTCHR30\", \"Alcohol\", \"Depression\", save=True)"
   ]
  },
  {
   "cell_type": "markdown",
   "metadata": {},
   "source": [
    "#### Marajuana Usage Trends"
   ]
  },
  {
   "cell_type": "code",
   "execution_count": null,
   "metadata": {
    "collapsed": false
   },
   "outputs": [],
   "source": [
    "mh_compare(df, \"MJDAY30A\", \"DSTNRV30\", \"Marajuana\", \"Nervousness\", save=True)\n",
    "mh_compare(df, \"MJDAY30A\", \"DSTHOP30\", \"Marajuana\", \"Hopelessness\", save=True)\n",
    "mh_compare(df, \"MJDAY30A\", \"DSTRST30\", \"Marajuana\", \"Restlessness\", save=True)\n",
    "mh_compare(df, \"MJDAY30A\", \"DSTCHR30\", \"Marajuana\", \"Depression\", save=True)"
   ]
  },
  {
   "cell_type": "markdown",
   "metadata": {},
   "source": [
    "#### Cocaine Usage Trends"
   ]
  },
  {
   "cell_type": "code",
   "execution_count": null,
   "metadata": {
    "collapsed": false
   },
   "outputs": [],
   "source": [
    "mh_compare(df, \"COCUS30A\", \"DSTNRV30\", \"Cocaine\", \"Nervousness\", save=True)\n",
    "mh_compare(df, \"COCUS30A\", \"DSTHOP30\", \"Cocaine\", \"Hopelessness\", save=True)\n",
    "mh_compare(df, \"COCUS30A\", \"DSTRST30\", \"Cocaine\", \"Restlessness\", save=True)\n",
    "mh_compare(df, \"COCUS30A\", \"DSTCHR30\", \"Cocaine\", \"Depression\", save=True)"
   ]
  },
  {
   "cell_type": "markdown",
   "metadata": {},
   "source": [
    "#### Sedatives Usage Trends"
   ]
  },
  {
   "cell_type": "code",
   "execution_count": null,
   "metadata": {
    "collapsed": false
   },
   "outputs": [],
   "source": [
    "# TODO: Some of the subgroups don't have all the brackets of data... \n",
    "# meaning that the mh_compare function isn't plotting the data properly\n",
    "\n",
    "# mh_compare(df, \"SEDYRTOT\", \"DSTNRV30\", \"Sedatives\", \"Nervousness\", save=False)\n",
    "# mh_compare(df, \"SEDYRTOT\", \"DSTHOP30\", \"Sedatives\", \"Hopelessness\", save=False)\n",
    "# mh_compare(df, \"SEDYRTOT\", \"DSTRST30\", \"Sedatives\", \"Restlessness\", save=False)\n",
    "# mh_compare(df, \"SEDYRTOT\", \"DSTCHR30\", \"Sedatives\", \"Depression\", save=False)"
   ]
  },
  {
   "cell_type": "markdown",
   "metadata": {},
   "source": [
    "#### Stimulants Usage Trends"
   ]
  },
  {
   "cell_type": "code",
   "execution_count": null,
   "metadata": {
    "collapsed": false
   },
   "outputs": [],
   "source": [
    "mh_compare(df, \"STMYRTOT\", \"DSTNRV30\", \"Stimulants\", \"Nervousness\", save=True)\n",
    "mh_compare(df, \"STMYRTOT\", \"DSTHOP30\", \"Stimulants\", \"Hopelessness\", save=True)\n",
    "mh_compare(df, \"STMYRTOT\", \"DSTRST30\", \"Stimulants\", \"Restlessness\", save=True)\n",
    "mh_compare(df, \"STMYRTOT\", \"DSTCHR30\", \"Stimulants\", \"Depression\", save=True)"
   ]
  }
 ],
 "metadata": {
  "kernelspec": {
   "display_name": "Python 2",
   "language": "python",
   "name": "python2"
  },
  "language_info": {
   "codemirror_mode": {
    "name": "ipython",
    "version": 2
   },
   "file_extension": ".py",
   "mimetype": "text/x-python",
   "name": "python",
   "nbconvert_exporter": "python",
   "pygments_lexer": "ipython2",
   "version": "2.7.11"
  }
 },
 "nbformat": 4,
 "nbformat_minor": 0
}
