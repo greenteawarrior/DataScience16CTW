{
 "cells": [
  {
   "cell_type": "markdown",
   "metadata": {},
   "source": [
    "#### Brenna Manning and Emily Wang | Change the World : Drug Abuse and Health | Data Science 2016\n",
    "\n",
    "March 4, 2016\n",
    "\n",
    "## Next Steps of Our Project\n",
    "\n",
    "Goals:\n",
    "* Explore more aspects of our data\n",
    "* Create clearer visualizations"
   ]
  },
  {
   "cell_type": "code",
   "execution_count": 5,
   "metadata": {
    "collapsed": false
   },
   "outputs": [],
   "source": [
    "%matplotlib inline\n",
    "\n",
    "import pandas as pd\n",
    "import matplotlib.pyplot as plt\n",
    "from matplotlib.ticker import ScalarFormatter, FormatStrFormatter\n",
    "import seaborn as sns\n",
    "import numpy as np\n",
    "import pprint as pp\n",
    "from IPython.display import display"
   ]
  },
  {
   "cell_type": "markdown",
   "metadata": {},
   "source": [
    "We want to explore more features of our data to learn more about the axes of diversity we were initially interested in.  \n",
    "\n",
    "We also want to modify the presentation of our visualizations from the previous notebook to make them clearer and more impactful."
   ]
  },
  {
   "cell_type": "markdown",
   "metadata": {},
   "source": [
    "#### Load data\n",
    "\n",
    "[Here's the link to the dataset webpage.](http://www.icpsr.umich.edu/icpsrweb/ICPSR/studies/34933)"
   ]
  },
  {
   "cell_type": "code",
   "execution_count": 6,
   "metadata": {
    "collapsed": true
   },
   "outputs": [],
   "source": [
    "df = pd.read_table('data/ICPSR_34933/DS0001/34933-0001-Data.tsv')"
   ]
  },
  {
   "cell_type": "code",
   "execution_count": 8,
   "metadata": {
    "collapsed": false
   },
   "outputs": [
    {
     "name": "stdout",
     "output_type": "stream",
     "text": [
      "1        2\n",
      "3        2\n",
      "4        2\n",
      "5        2\n",
      "8        2\n",
      "9        2\n",
      "10       2\n",
      "11       2\n",
      "13       2\n",
      "17       2\n",
      "22       2\n",
      "26       2\n",
      "29       2\n",
      "32       2\n",
      "35       2\n",
      "38       2\n",
      "40       2\n",
      "41       2\n",
      "42       2\n",
      "44       2\n",
      "46       2\n",
      "50       2\n",
      "52       2\n",
      "53       2\n",
      "56       2\n",
      "61       2\n",
      "63       1\n",
      "64       1\n",
      "66       2\n",
      "67       2\n",
      "        ..\n",
      "55217    2\n",
      "55219    2\n",
      "55220    2\n",
      "55221    2\n",
      "55222    2\n",
      "55223    2\n",
      "55224    2\n",
      "55226    2\n",
      "55227    2\n",
      "55228    2\n",
      "55229    2\n",
      "55231    2\n",
      "55234    2\n",
      "55237    2\n",
      "55238    2\n",
      "55239    2\n",
      "55241    2\n",
      "55242    2\n",
      "55244    2\n",
      "55245    2\n",
      "55250    2\n",
      "55251    2\n",
      "55252    2\n",
      "55254    2\n",
      "55255    2\n",
      "55260    1\n",
      "55261    2\n",
      "55262    2\n",
      "55265    2\n",
      "55266    2\n",
      "Name: ALCLSACT, dtype: int64\n"
     ]
    }
   ],
   "source": [
    "df_subset = df[df['ALCLSACT'] < 3]\n",
    "print df_subset['ALCLSACT']\n",
    " "
   ]
  },
  {
   "cell_type": "code",
   "execution_count": 37,
   "metadata": {
    "collapsed": false
   },
   "outputs": [],
   "source": [
    "def mental_health_bars_activity(df, act, emotion, substancestr, emotionstr):\n",
    "    \"\"\"\n",
    "    let's use relative frequencies and bin up the data based on the design decision described above.\n",
    "    \n",
    "    df: dataframe of interest\n",
    "\n",
    "    s30: subtance of interest\n",
    "    emotion: mental health aspect of interest\n",
    "\n",
    "    for the sake of plot labelling:\n",
    "    substance: human readable string of the substance\n",
    "    emotionstr: human readable string of the mental health aspect\n",
    "    \"\"\"\n",
    "    \n",
    "   \n",
    "    df_subset = df[df[act] < 3]\n",
    "    \n",
    "    # \n",
    "    df_subset= df_subset[df_subset[emotion] < 6]\n",
    "    df_subset['BRACKET'] = df_subset[act]\n",
    "    df_subset['EMOBRACKET'] = df_subset[emotion]\n",
    "    \n",
    "    df_subset.loc[df_subset[emotion] >= 5, 'EMOBRACKET'] = emotionstr +' Never'     \n",
    "    df_subset.loc[df_subset[emotion] < 5, 'EMOBRACKET'] = emotionstr + ' Some or Little'\n",
    "    df_subset.loc[df_subset[emotion] < 3, 'EMOBRACKET'] = emotionstr + ' Most or All'\n",
    "\n",
    "    grouped = df_subset.groupby('BRACKET')\n",
    "    bracket_counts = grouped['EMOBRACKET'].value_counts(normalize=True)\n",
    "    display(bracket_counts)\n",
    "        \n",
    "    bracket_data = [{'BRACKET': br, 'EMOBRACKET': em, 'percentage': percentage*100}\n",
    "                    for (br, em), percentage in dict(bracket_counts).items()\n",
    "                   ]\n",
    "    \n",
    "    plotting_df = pd.DataFrame(bracket_data)\n",
    "    display(plotting_df)\n",
    "    \n",
    "    p, ax = plt.subplots()\n",
    "    #_ = plt.legend(bbox_to_anchor=(1.05, 1), loc=2)\n",
    "    hue_order_list = [emotionstr + ' Most or All' , emotionstr + ' Some or Little', emotionstr + ' Never']\n",
    "    p = sns.barplot(x=\"BRACKET\", y=\"percentage\", hue=\"EMOBRACKET\", hue_order=hue_order_list, data=plotting_df)\n",
    "    ax.set_xticklabels(['yes', 'no'])\n",
    "    xlabel = 'Gave up or spent less time on important activities'\n",
    "    plt.xlabel(xlabel)\n",
    "    plt.ylabel('Percentage of Respondents in Frequency Bracket')\n",
    "    title =  'Sacrificed Important Activities due to ' + substancestr\n",
    "    plt.title(title)\n",
    "    plt.show()\n",
    "    \n",
    "    return\n"
   ]
  },
  {
   "cell_type": "code",
   "execution_count": 38,
   "metadata": {
    "collapsed": false
   },
   "outputs": [
    {
     "data": {
      "text/plain": [
       "BRACKET  EMOBRACKET                 \n",
       "1        Hopelessness Some or Little    0.485670\n",
       "         Hopelessness Never             0.379551\n",
       "         Hopelessness Most or All       0.134779\n",
       "2        Hopelessness Never             0.663388\n",
       "         Hopelessness Some or Little    0.294421\n",
       "         Hopelessness Most or All       0.042191\n",
       "dtype: float64"
      ]
     },
     "metadata": {},
     "output_type": "display_data"
    },
    {
     "data": {
      "text/html": [
       "<div>\n",
       "<table border=\"1\" class=\"dataframe\">\n",
       "  <thead>\n",
       "    <tr style=\"text-align: right;\">\n",
       "      <th></th>\n",
       "      <th>BRACKET</th>\n",
       "      <th>EMOBRACKET</th>\n",
       "      <th>percentage</th>\n",
       "    </tr>\n",
       "  </thead>\n",
       "  <tbody>\n",
       "    <tr>\n",
       "      <th>0</th>\n",
       "      <td>1</td>\n",
       "      <td>Hopelessness Most or All</td>\n",
       "      <td>13.477924</td>\n",
       "    </tr>\n",
       "    <tr>\n",
       "      <th>1</th>\n",
       "      <td>2</td>\n",
       "      <td>Hopelessness Most or All</td>\n",
       "      <td>4.219133</td>\n",
       "    </tr>\n",
       "    <tr>\n",
       "      <th>2</th>\n",
       "      <td>1</td>\n",
       "      <td>Hopelessness Never</td>\n",
       "      <td>37.955074</td>\n",
       "    </tr>\n",
       "    <tr>\n",
       "      <th>3</th>\n",
       "      <td>2</td>\n",
       "      <td>Hopelessness Some or Little</td>\n",
       "      <td>29.442113</td>\n",
       "    </tr>\n",
       "    <tr>\n",
       "      <th>4</th>\n",
       "      <td>1</td>\n",
       "      <td>Hopelessness Some or Little</td>\n",
       "      <td>48.567002</td>\n",
       "    </tr>\n",
       "    <tr>\n",
       "      <th>5</th>\n",
       "      <td>2</td>\n",
       "      <td>Hopelessness Never</td>\n",
       "      <td>66.338755</td>\n",
       "    </tr>\n",
       "  </tbody>\n",
       "</table>\n",
       "</div>"
      ],
      "text/plain": [
       "   BRACKET                   EMOBRACKET  percentage\n",
       "0        1     Hopelessness Most or All   13.477924\n",
       "1        2     Hopelessness Most or All    4.219133\n",
       "2        1           Hopelessness Never   37.955074\n",
       "3        2  Hopelessness Some or Little   29.442113\n",
       "4        1  Hopelessness Some or Little   48.567002\n",
       "5        2           Hopelessness Never   66.338755"
      ]
     },
     "metadata": {},
     "output_type": "display_data"
    },
    {
     "data": {
      "image/png": "[encoded data removed]",
      "text/plain": [
       "<matplotlib.figure.Figure at 0x7f70f733afd0>"
      ]
     },
     "metadata": {},
     "output_type": "display_data"
    }
   ],
   "source": [
    "mental_health_bars_activity(df, 'ALCLSACT', 'DSTHOP30', 'Alcohol', 'Hopelessness')"
   ]
  },
  {
   "cell_type": "code",
   "execution_count": null,
   "metadata": {
    "collapsed": true
   },
   "outputs": [],
   "source": []
  },
  {
   "cell_type": "code",
   "execution_count": null,
   "metadata": {
    "collapsed": true
   },
   "outputs": [],
   "source": []
  }
 ],
 "metadata": {
  "kernelspec": {
   "display_name": "Python 2",
   "language": "python",
   "name": "python2"
  },
  "language_info": {
   "codemirror_mode": {
    "name": "ipython",
    "version": 2
   },
   "file_extension": ".py",
   "mimetype": "text/x-python",
   "name": "python",
   "nbconvert_exporter": "python",
   "pygments_lexer": "ipython2",
   "version": "2.7.11"
  }
 },
 "nbformat": 4,
 "nbformat_minor": 0
}
